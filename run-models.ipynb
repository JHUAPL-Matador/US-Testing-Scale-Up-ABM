{
 "metadata": {
  "language_info": {
   "codemirror_mode": {
    "name": "ipython",
    "version": 3
   },
   "file_extension": ".py",
   "mimetype": "text/x-python",
   "name": "python",
   "nbconvert_exporter": "python",
   "pygments_lexer": "ipython3",
   "version": "3.9.12"
  },
  "orig_nbformat": 2,
  "kernelspec": {
   "name": "python3912jvsc74a57bd08a5086ceb0f2069590248300144fd86962108fab78548c9b6bee251b57e30a65",
   "display_name": "Python 3.9.12 64-bit ('covasimenv': venv)"
  }
 },
 "nbformat": 4,
 "nbformat_minor": 2,
 "cells": [
  {
   "source": [
    "# Test Run Models\n",
    "This script is used to run and test models. Ten simulations will be run.\n",
    "## Run Baseline Scenario (C0)"
   ],
   "cell_type": "markdown",
   "metadata": {}
  },
  {
   "cell_type": "code",
   "execution_count": null,
   "metadata": {},
   "outputs": [],
   "source": [
    "for i in range(10):\n",
    "    %run \"model/msimC0.py\" $0"
   ]
  },
  {
   "source": [
    "## Run Scenario 1: 20% testing (C1)"
   ],
   "cell_type": "markdown",
   "metadata": {}
  },
  {
   "cell_type": "code",
   "execution_count": null,
   "metadata": {},
   "outputs": [],
   "source": [
    "for i in range(10):\n",
    "    %run \"model/msimC1.py\" $0"
   ]
  },
  {
   "source": [
    "## Run Scenario 2: Delay in testing (C2)"
   ],
   "cell_type": "markdown",
   "metadata": {}
  },
  {
   "cell_type": "code",
   "execution_count": null,
   "metadata": {},
   "outputs": [],
   "source": [
    "for i in range(10):\n",
    "    %run \"model/msimC2.py\" $0"
   ]
  },
  {
   "source": [
    "## Run Scenario 3: 180% testing (C3)\n"
   ],
   "cell_type": "markdown",
   "metadata": {}
  },
  {
   "cell_type": "code",
   "execution_count": null,
   "metadata": {},
   "outputs": [],
   "source": [
    "for i in range(10):\n",
    "    %run \"model/msimC3.py\" $0"
   ]
  }
 ]
}